{
 "cells": [
  {
   "cell_type": "markdown",
   "metadata": {},
   "source": [
    "# <a id=\"home\">Table of Content</a>\n",
    "1. [Studi kasus part I](#studi-kasus-i)\n",
    "2. [Studi kasus part II](#studi-kasus-ii)"
   ]
  },
  {
   "cell_type": "markdown",
   "metadata": {},
   "source": [
    "# <a id=\"studi-kasus-i\">Studi Kasus part I: Training & Fine-tuning Decision Trees</a> (Back to [Home](#home))"
   ]
  },
  {
   "cell_type": "markdown",
   "metadata": {},
   "source": [
    "Dalam Part I ini, anda akan melatih dan _fine-tune_ pohon keputusan untuk dataset moons. "
   ]
  },
  {
   "cell_type": "markdown",
   "metadata": {},
   "source": [
    "<div>\n",
    "    <img src=\"images/decision_trees/moons-dataset.png\" width=500/>\n",
    "</div>\n",
    "<center>\n",
    "Contoh dataset `moons`\n",
    "</center>    "
   ]
  },
  {
   "cell_type": "markdown",
   "metadata": {},
   "source": [
    "Mari _generate_ dataset moons dengan menggunakan `make_moons(n_samples=10000, noise=0.4)`."
   ]
  },
  {
   "cell_type": "markdown",
   "metadata": {},
   "source": [
    "Tambahkan juga `random_state=42`:"
   ]
  },
  {
   "cell_type": "code",
   "execution_count": 1,
   "metadata": {},
   "outputs": [],
   "source": [
    "#tata\n",
    "from sklearn.datasets import make_moons\n",
    "\n",
    "X_moons, y_moons = make_moons(n_samples=10000, noise=0.4, random_state=42)"
   ]
  },
  {
   "cell_type": "markdown",
   "metadata": {},
   "source": [
    "Mari kita pisahkan dataset menjadi **train set** dan **test set** dengan menggunakan `train_test_split()`.    \n",
    "Buatlah _test set_ sebesar 20% dari _dataset_.    \n",
    "Gunakan `random_state=42`."
   ]
  },
  {
   "cell_type": "code",
   "execution_count": 2,
   "metadata": {},
   "outputs": [],
   "source": [
    "#tata\n",
    "from sklearn.model_selection import train_test_split\n",
    "\n",
    "X_train, X_test, y_train, y_test = train_test_split(X_moons, y_moons, test_size = 0.2, random_state = 42)"
   ]
  },
  {
   "cell_type": "markdown",
   "metadata": {},
   "source": [
    "Gunakan _grid search_ dikombinasikan _cross-validation_ dengan menggunakan kelas `GridSearchCV` untuk mencari _hyperparameter_ yang bagus untuk `DecisionTreeClassifier`.    \n",
    "   \n",
    "Berikut nilai-nilai _hyperparameter_ yang hendak di-_fine-tuning_:   \n",
    "- $2 \\leq \\texttt{max_leaf_nodes} \\leq 99$ \n",
    "- $1 \\leq \\texttt{max_depth} \\leq 6$\n",
    "- $2 \\leq \\texttt{min_samples_split} \\leq 4$ \n",
    "\n",
    "dengan masing-masing `max_leaf_nodes`, `max_depth`, dan `min_samples_split` merupakan bilangan bulat.\n",
    "   \n",
    "**Catatan**: Gunakan 3-fold CV dan `random_state=42`.   "
   ]
  },
  {
   "cell_type": "code",
   "execution_count": 3,
   "metadata": {},
   "outputs": [],
   "source": [
    "#thor\n",
    "from sklearn.model_selection import GridSearchCV\n",
    "from sklearn.tree import DecisionTreeClassifier\n",
    "\n",
    "params = {\n",
    "    \n",
    "    'max_leaf_nodes': list(range(2, 99)),\n",
    "    'max_depth': list(range(1, 6)),\n",
    "    'min_samples_split': list(range(2, 4))\n",
    "}\n",
    "\n",
    "DecTree = DecisionTreeClassifier()\n",
    "\n",
    "grid_search_cv = GridSearchCV(DecTree, param_grid=params, cv = 3, scoring='accuracy')"
   ]
  },
  {
   "cell_type": "markdown",
   "metadata": {},
   "source": [
    "Mari kita latih `grid_search_cv` pada `X_train` dan `y_train`."
   ]
  },
  {
   "cell_type": "code",
   "execution_count": 4,
   "metadata": {},
   "outputs": [
    {
     "data": {
      "text/plain": [
       "GridSearchCV(cv=3, estimator=DecisionTreeClassifier(),\n",
       "             param_grid={'max_depth': [1, 2, 3, 4, 5],\n",
       "                         'max_leaf_nodes': [2, 3, 4, 5, 6, 7, 8, 9, 10, 11, 12,\n",
       "                                            13, 14, 15, 16, 17, 18, 19, 20, 21,\n",
       "                                            22, 23, 24, 25, 26, 27, 28, 29, 30,\n",
       "                                            31, ...],\n",
       "                         'min_samples_split': [2, 3]},\n",
       "             scoring='accuracy')"
      ]
     },
     "execution_count": 4,
     "metadata": {},
     "output_type": "execute_result"
    }
   ],
   "source": [
    "#thor\n",
    "grid_search_cv.fit(X_train, y_train)"
   ]
  },
  {
   "cell_type": "markdown",
   "metadata": {},
   "source": [
    "Mari kita tampilkan **best hyperparameter** dari _decision tree_ tersebut."
   ]
  },
  {
   "cell_type": "code",
   "execution_count": 5,
   "metadata": {},
   "outputs": [
    {
     "name": "stdout",
     "output_type": "stream",
     "text": [
      "Grid Search Hasil:\n",
      "Parameter Terbaik: {'max_depth': 2, 'max_leaf_nodes': 4, 'min_samples_split': 2}\n",
      "Akurasi Terbaik: 85.25%\n"
     ]
    }
   ],
   "source": [
    "#bobi\n",
    "print(\"Grid Search Hasil:\")\n",
    "print(f\"Parameter Terbaik: {grid_search_cv.best_params_}\")\n",
    "print(f\"Akurasi Terbaik: {round(grid_search_cv.best_score_*100,2)}%\")"
   ]
  },
  {
   "cell_type": "markdown",
   "metadata": {},
   "source": [
    "Sekarang mari kita latih _decision tree_ dengan seluruh _train set_ kemudian kita ukur performance _decision tree_ pada **test set**.    \n",
    "   \n",
    "Berapakah akurasi yang anda peroleh?"
   ]
  },
  {
   "cell_type": "markdown",
   "metadata": {},
   "source": [
    "By default, `GridSearchCV` melatih _best model_ yang sudah ditemukan pada keseluruhan train set.   \n",
    "Jadi kita tidak perlu melatih model _decision tree_ dari _scratch_.    \n",
    "Kita dapat mengevaluasi keakuratan model sbb:"
   ]
  },
  {
   "cell_type": "code",
   "execution_count": 6,
   "metadata": {},
   "outputs": [
    {
     "name": "stdout",
     "output_type": "stream",
     "text": [
      "Akurasi best model: 86.3%\n"
     ]
    }
   ],
   "source": [
    "#bobi\n",
    "from sklearn.metrics import accuracy_score\n",
    "\n",
    "best_model = grid_search_cv.best_estimator_\n",
    "best_model.fit(X_train, y_train)\n",
    "y_pred = best_model.predict(X_test)\n",
    "accuracy = accuracy_score(y_test, y_pred)\n",
    "\n",
    "print(f\"Akurasi best model: {round(accuracy*100,2)}%\")"
   ]
  },
  {
   "cell_type": "markdown",
   "metadata": {},
   "source": [
    "# <a id=\"studi-kasus-ii\">Studi Kasus part II: Menumbuhkan Hutan (_Forest_)</a> (Back to [Home](#home))"
   ]
  },
  {
   "cell_type": "markdown",
   "metadata": {},
   "source": [
    "## Prelude to Random Forest $\\Longrightarrow$ one of the most powerful ML models"
   ]
  },
  {
   "cell_type": "markdown",
   "metadata": {},
   "source": [
    "Mari kita lanjutkan studi kasus part I dengan meng-_generate_ 1.000 (seribu) _subsets_ dari _train set_, setiap _subset_ mengandung 100 _instances_ yang dipilih secara acak.    \n",
    "\n",
    "**Hint**: kita gunakan Scikit-Learn's `ShuffleSplit` class untuk melakukan ini."
   ]
  },
  {
   "cell_type": "code",
   "execution_count": 7,
   "metadata": {},
   "outputs": [],
   "source": [
    "#dapid\n",
    "from sklearn.model_selection import ShuffleSplit\n",
    "\n",
    "n_trees = 1000\n",
    "n_instances = 100\n",
    "\n",
    "mini_sets = []\n",
    "\n",
    "rs = ShuffleSplit(n_splits=n_trees, test_size=len(X_train) - n_instances,\n",
    "                  random_state=42)\n",
    "\n",
    "for mini_train_index, mini_test_index in rs.split(X_train):\n",
    "    X_mini_train = X_train[mini_train_index]\n",
    "    y_mini_train = y_train[mini_train_index]\n",
    "    mini_sets.append((X_mini_train, y_mini_train))"
   ]
  },
  {
   "cell_type": "markdown",
   "metadata": {},
   "source": [
    "Terdapat 1000 _mini set_ atau _subset_ dari _train set_."
   ]
  },
  {
   "cell_type": "code",
   "execution_count": 8,
   "metadata": {},
   "outputs": [
    {
     "data": {
      "text/plain": [
       "1000"
      ]
     },
     "execution_count": 8,
     "metadata": {},
     "output_type": "execute_result"
    }
   ],
   "source": [
    "#dapit\n",
    "len(mini_sets)"
   ]
  },
  {
   "cell_type": "markdown",
   "metadata": {},
   "source": [
    "Setiap _subset_ terdiri dari 2 bagian, yaitu: `X_mini_train` dan `y_mini_train`."
   ]
  },
  {
   "cell_type": "code",
   "execution_count": 9,
   "metadata": {},
   "outputs": [
    {
     "data": {
      "text/plain": [
       "2"
      ]
     },
     "execution_count": 9,
     "metadata": {},
     "output_type": "execute_result"
    }
   ],
   "source": [
    "#dapit\n",
    "len(mini_sets[0])"
   ]
  },
  {
   "cell_type": "markdown",
   "metadata": {},
   "source": [
    "Setiap `X_mini_train` mempunyai 100 _instances_.     \n",
    "Setiap `y_mini_train` mempunyai 100 _instances_.     "
   ]
  },
  {
   "cell_type": "code",
   "execution_count": 10,
   "metadata": {},
   "outputs": [
    {
     "data": {
      "text/plain": [
       "(100, 100)"
      ]
     },
     "execution_count": 10,
     "metadata": {},
     "output_type": "execute_result"
    }
   ],
   "source": [
    "#wili\n",
    "len(mini_sets[0][0]), len(mini_sets[0][1])"
   ]
  },
  {
   "cell_type": "markdown",
   "metadata": {},
   "source": [
    "- Sekarang mari kita _train_ satu pohon keputusan untuk setiap _subset_ dengan _best hyperparameter_ yang diperoleh dari Studi Kasus part I.    \n",
    "- Evaluasi 1000 pohon keputusan ini pada _test set_.    \n",
    "- Karena pohon keputusan-pohon keputusan ini dilatih pada _dataset_ yang lebih kecil (_subset_), _performance_ pohon keputusan-pohon keputusan ini **lebih jelek daripada pohon keputusan di Studi Kasus part I**, yaitu mencapai akurasi hanya sekitar 80\\%."
   ]
  },
  {
   "cell_type": "code",
   "execution_count": 11,
   "metadata": {},
   "outputs": [
    {
     "data": {
      "text/plain": [
       "0.831607"
      ]
     },
     "execution_count": 11,
     "metadata": {},
     "output_type": "execute_result"
    }
   ],
   "source": [
    "#wili\n",
    "from sklearn.base import clone\n",
    "import numpy as np\n",
    "\n",
    "forest = [clone(grid_search_cv.best_estimator_) for _ in range(n_trees)]\n",
    "\n",
    "accuracy_scores = []\n",
    "\n",
    "for tree, (X_mini_train, y_mini_train) in zip(forest, mini_sets):\n",
    "    #### Write Your Code Here ####\n",
    "    tree.fit(X_mini_train, y_mini_train)\n",
    "    y_pred = tree.predict(X_test)\n",
    "    accuracy_scores.append(accuracy_score(y_test, y_pred))\n",
    "    \n",
    "    \n",
    "    accuracy_scores.append(accuracy_score(y_test, y_pred))\n",
    "\n",
    "np.mean(accuracy_scores)"
   ]
  },
  {
   "cell_type": "markdown",
   "metadata": {},
   "source": [
    "_Here comes the magic!_    \n",
    "   \n",
    "Untuk setiap _instance_ _test set_, kita _generate_ prediksi dari 1000 (seribu) pohon keputusan. "
   ]
  },
  {
   "cell_type": "code",
   "execution_count": 12,
   "metadata": {},
   "outputs": [],
   "source": [
    "#wili\n",
    "Y_pred = np.empty([n_trees, len(X_test)], dtype=np.uint8)\n",
    "\n",
    "for tree_index, tree in enumerate(forest):\n",
    "    Y_pred[tree_index] = tree.predict(X_test) #### Write Your Code Here ####"
   ]
  },
  {
   "cell_type": "markdown",
   "metadata": {},
   "source": [
    "Sekarang hitunglah prediksi yang sering muncul (**modus**) dari 1000 pohon keputusan tersebut (anda dapat menggunakan SciPy's `mode()` function untuk menghitung **modus**).    \n",
    "   \n",
    "**Modus** memberikan kita prediksi dengan **voting suara terbanyak** atas _test set_.   \n",
    "\n",
    "Mari kita hitung modus dengan cara memanggil fungsi `mode` pada `Y_pred` dengan diikuti oleh `axis=0` dan `keepdims=False`."
   ]
  },
  {
   "cell_type": "code",
   "execution_count": 13,
   "metadata": {},
   "outputs": [],
   "source": [
    "#arth\n",
    "from scipy.stats import mode\n",
    "\n",
    "y_pred_majority_votes, n_votes = mode(Y_pred, axis=0, keepdims=False) #### Write Your Code Here ####"
   ]
  },
  {
   "cell_type": "markdown",
   "metadata": {},
   "source": [
    "Terakhir, mari kita evaluasi prediksi pada _test set_ ini dengan menggunakan fungsi `accuracy_score`."
   ]
  },
  {
   "cell_type": "code",
   "execution_count": 14,
   "metadata": {},
   "outputs": [
    {
     "name": "stdout",
     "output_type": "stream",
     "text": [
      "Accuracy score :  0.869\n"
     ]
    }
   ],
   "source": [
    "#arth\n",
    "#### Write Your Code Here ####\n",
    "print(\"Accuracy score : \", accuracy_score(y_pred_majority_votes, y_test))"
   ]
  },
  {
   "cell_type": "markdown",
   "metadata": {},
   "source": [
    "Seharusnya anda akan memperoleh akurasi yang **sedikit tinggi** dari akurasi model pertama anda di Studi Kasus part I. Peningkatan yang terjadi adalah sebesar 0.5 sampai dengan 1.5%.    \n",
    "   \n",
    "Selamat! Anda sudah melatih _classifier_ **Random Forest**.   "
   ]
  },
  {
   "cell_type": "markdown",
   "metadata": {},
   "source": [
    "<center>\n",
    "    <h1>The End</h1>\n",
    "</center>"
   ]
  },
  {
   "cell_type": "code",
   "execution_count": null,
   "metadata": {},
   "outputs": [],
   "source": []
  }
 ],
 "metadata": {
  "celltoolbar": "Slideshow",
  "kernelspec": {
   "display_name": "Python 3 (ipykernel)",
   "language": "python",
   "name": "python3"
  },
  "language_info": {
   "codemirror_mode": {
    "name": "ipython",
    "version": 3
   },
   "file_extension": ".py",
   "mimetype": "text/x-python",
   "name": "python",
   "nbconvert_exporter": "python",
   "pygments_lexer": "ipython3",
   "version": "3.9.12"
  },
  "nav_menu": {
   "height": "309px",
   "width": "468px"
  },
  "toc": {
   "navigate_menu": true,
   "number_sections": true,
   "sideBar": true,
   "threshold": 6,
   "toc_cell": false,
   "toc_section_display": "block",
   "toc_window_display": false
  }
 },
 "nbformat": 4,
 "nbformat_minor": 4
}
