{
 "cells": [
  {
   "cell_type": "code",
   "execution_count": null,
   "id": "f11f7940",
   "metadata": {},
   "outputs": [],
   "source": [
    "import matplotlib.pyplot as plt\n",
    "import numpy as np\n",
    "import scipy.io as scio"
   ]
  },
  {
   "cell_type": "markdown",
   "id": "3575effe",
   "metadata": {},
   "source": [
    "Dalam praktikum ke-5 ini, anda akan mengimplementasi _regularized linear regression_ dan menggunakannya untuk mempelajari model-model dengan sifat _bias-variance_ yang berbeda."
   ]
  },
  {
   "cell_type": "markdown",
   "id": "0c9e1775",
   "metadata": {},
   "source": [
    "# 1. Regularized Linear Regression"
   ]
  },
  {
   "cell_type": "markdown",
   "id": "d41276c7",
   "metadata": {},
   "source": [
    "Bagian pertama dari praktikum membahas bagaimana anda akan mengimplementasi regularized linear regression untuk memprediksi jumlah air yang mengalir keluar dari bendungan dengan menggunakan perubahan ketinggian air di dalam waduk."
   ]
  },
  {
   "cell_type": "markdown",
   "id": "cccee228",
   "metadata": {},
   "source": [
    "## 1.1 Visualisasi dataset\n",
    "Kita akan mulai dengan memvisualisasikan dataset yang berisi history tentang perubahan ketinggian air, $x$, dan jumlah air yang mengalir keluar dari bendungan, $y$.\n",
    "\n",
    "This dataset is divided into three parts:\n",
    "- Data latih (_train set_) yang akan dipelajari oleh model anda: `X`, `y`\n",
    "- Data validasi (_validation set_) untuk menentukan parameter regularisasi: `Xval`, `yval`\n",
    "- Data uji (_test set_) untuk mengevaluasi kinerja model anda. Ini adalah contoh-contoh data \"tak terlihat\" yang tidak dilihat model anda selama _training_: `Xtest`, `ytest`"
   ]
  },
  {
   "cell_type": "markdown",
   "id": "6ec2fdc0",
   "metadata": {},
   "source": [
    "Selanjutnya, kita akan plot the training data sbb:"
   ]
  },
  {
   "cell_type": "code",
   "execution_count": null,
   "id": "a1945097",
   "metadata": {},
   "outputs": [],
   "source": [
    "plt.ion()\n",
    "np.set_printoptions(formatter={'float': '{: 0.6f}'.format})\n",
    "\n",
    "# ===================== Part 1: Loading and Visualizing Data =====================\n",
    "# We start the exercise by first loading and visualizing the dataset.\n",
    "# The following code will load the dataset into your environment and pot\n",
    "# the data.\n",
    "#\n",
    "\n",
    "# Load Training data\n",
    "print('Loading and Visualizing data ...')\n",
    "\n",
    "# Load from ex5data1:\n",
    "data = scio.loadmat('ex5data1.mat')\n",
    "X = data['X']\n",
    "y = data['y'].flatten()\n",
    "Xval = data['Xval']\n",
    "yval = data['yval'].flatten()\n",
    "Xtest = data['Xtest']\n",
    "ytest = data['ytest'].flatten()\n",
    "\n",
    "m = y.size\n",
    "\n",
    "# Plot training data\n",
    "plt.figure()\n",
    "plt.scatter(X, y, c='r', marker=\"x\")\n",
    "plt.xlabel('Change in water level (x)')\n",
    "plt.ylabel('Water folowing out of the dam (y)')"
   ]
  },
  {
   "cell_type": "markdown",
   "id": "60a4d32c",
   "metadata": {},
   "source": [
    "## 1.2 Regularized linear regression cost function\n",
    "Seperti yang sudah dijelaskan di kelas bahwa _regularized linear regression_ memiliki _cost function_ berikut:\n",
    "\n",
    "$$\n",
    "   J(\\theta) = \\underbrace{ \\frac{1}{2m} \\left( \\sum_{i=1}^m ( h_\\theta(x^{(i)}) - y^{(i)} )^2 \\right) }_{\\text{MSE}}  + \\underbrace{\\frac{\\alpha}{2m} \\left( \\sum_{j=1}^n{\\theta_j^2} \\right)}_{\\text{suku regularisasi}} \n",
    "$$\n",
    "\n",
    "dengan $\\alpha$ adalah parameter regularisasi yang mengontrol derajat regularisasi."
   ]
  },
  {
   "cell_type": "markdown",
   "id": "650ad9d7",
   "metadata": {},
   "source": [
    "Suku regularisasi memberi penalti pada keseluruhan _cost function_ $J$. Saat parameter model $θ_j$ meningkat, penalti juga meningkat. Perhatikan bahwa anda sebaiknya tidak mengatur suku $θ_0$."
   ]
  },
  {
   "cell_type": "markdown",
   "id": "16ba26a2",
   "metadata": {},
   "source": [
    "### Tugas anda\n",
    "- Anda sekarang harus melengkapi fungsi `linearRegCostFunction`.\n",
    "- Tugas anda adalah menulis fungsi untuk menghitung fungsi biaya regresi linier teregulasi.\n",
    "- Jika memungkinkan, cobalah untuk membuat kode program anda dalam bentuk _vectorized_ dan hindari menulis loop. \n",
    "Ketika anda selesai, anda akan menjalankan fungsi `linearRegCostFunction` anda dengan menggunakan $\\theta$ yang diinisialisasi di \\[1, 1\\]. Hasilnya, anda akan melihat output `303.993`."
   ]
  },
  {
   "cell_type": "markdown",
   "id": "9010185d",
   "metadata": {},
   "source": [
    "## 1.3 Regularized linear regression gradient\n",
    "Gradient dalam kasus ini terdiri dari 2 bagian, yaitu:\n",
    "$$\n",
    "\\frac{\\partial J(\\theta)}{\\partial \\theta_0} = \\frac{1}{m} \\sum_{i=1}^{m}{(h_\\theta(x^{(i)}) - y^{(i)}) x_0^{(i)}}\n",
    "$$\n",
    "\n",
    "dan\n",
    "\n",
    "$$\n",
    "\\frac{\\partial J(\\theta)}{\\partial \\theta_1} = \\left( \\frac{1}{m} \\sum_{i=1}^m{ ( h_\\theta(x^{(i)}) - y^{(i)} ) x_1^{(i)} } + \\frac{\\alpha}{m} \\theta_1 \\right).    \n",
    "$$\n",
    "\n",
    "Dalam implementasi kode dalam fungsi `linear_reg_cost_function`, $J$ diwakili oleh `cost` dan \n",
    "\n",
    "$$\n",
    "\\texttt{grad} = \\begin{bmatrix}\n",
    "        \\frac{\\partial J(\\theta)}{\\partial \\theta_0} \\\\\n",
    "        \\frac{\\partial J(\\theta)}{\\partial \\theta_1}\n",
    "    \\end{bmatrix}\n",
    "$$"
   ]
  },
  {
   "cell_type": "code",
   "execution_count": null,
   "id": "be98755f",
   "metadata": {},
   "outputs": [],
   "source": [
    "def linear_reg_cost_function(theta, x, y, alpha):\n",
    "    # Initialize some useful values\n",
    "    m = y.size\n",
    "\n",
    "    # You need to return the following variables correctly\n",
    "    cost = 0\n",
    "    grad = np.zeros(theta.shape)\n",
    "\n",
    "    # ===================== Your Code Here =====================\n",
    "    # Instruksi : Hitunglah the cost and gradient dari regularized linear\n",
    "    #                regression untuk suatu nilai theta\n",
    "    #\n",
    "    #                You should set 'cost' to the cost and 'grad'\n",
    "    #                to the gradient\n",
    "    #\n",
    "\n",
    "    error = # Write your code here\n",
    "\n",
    "    cost = # Write your code here\n",
    "\n",
    "    reg_term = # Write your code here\n",
    "    reg_term[0] = # Write your code here\n",
    "    grad = # Write your code here\n",
    "\n",
    "    # ==========================================================\n",
    "\n",
    "    return cost, grad"
   ]
  },
  {
   "cell_type": "markdown",
   "id": "2a7f27ec",
   "metadata": {},
   "source": [
    "Kita jalankan fungsi `linearRegCostFunction` dengan menggunakan theta bernilai `[1, 1]`."
   ]
  },
  {
   "cell_type": "code",
   "execution_count": null,
   "id": "6169e98e",
   "metadata": {},
   "outputs": [],
   "source": [
    "# ===================== Part 2: Regularized Linear Regression Cost =====================\n",
    "# You should have implemented the cost function for regularized linear regression. \n",
    "# Now you are going to call the cost function.\n",
    "\n",
    "theta = np.ones(2)\n",
    "cost, _ = linear_reg_cost_function(theta, np.c_[np.ones(m), X], y, 1)"
   ]
  },
  {
   "cell_type": "markdown",
   "id": "28e5ed9f",
   "metadata": {},
   "source": [
    "Kita cetak `cost` pada saat `theta = [1 1]`. "
   ]
  },
  {
   "cell_type": "code",
   "execution_count": null,
   "id": "35c563f8",
   "metadata": {},
   "outputs": [],
   "source": [
    "print(f'Cost at theta = [1  1]: {cost:0.6f}\\n(this value should be about 303.993192')"
   ]
  },
  {
   "cell_type": "markdown",
   "id": "df9beebf",
   "metadata": {},
   "source": [
    "Selanjutnya, kita akan coba menghitung gradient yang disimpan dalam variabel `grad`."
   ]
  },
  {
   "cell_type": "code",
   "execution_count": null,
   "id": "ca84c232",
   "metadata": {},
   "outputs": [],
   "source": [
    "# ===================== Part 3: Regularized Linear Regression Gradient =====================\n",
    "# You should now have implemented the gradient for regularized linear regression.\n",
    "# Now you are going to call the function.\n",
    "\n",
    "theta = np.ones(2)\n",
    "cost, grad = linear_reg_cost_function(theta, np.c_[np.ones(m), X], y, 1)\n",
    "\n",
    "print('Gradient at theta = [1  1]: {}\\n(this value should be about [-15.303016  598.250744]'.format(grad))"
   ]
  },
  {
   "cell_type": "markdown",
   "id": "4b35d408",
   "metadata": {},
   "source": [
    "## 1.4 Melatih Model Linear Regression"
   ]
  },
  {
   "cell_type": "markdown",
   "id": "78cd5f5b",
   "metadata": {},
   "source": [
    "Kita definisikan fungsi `train_linear_reg` yang akan menghitung `theta` dengan _cost_ paling minimum."
   ]
  },
  {
   "cell_type": "code",
   "execution_count": null,
   "id": "e32aceea",
   "metadata": {},
   "outputs": [],
   "source": [
    "import numpy as np\n",
    "import scipy.optimize as opt\n",
    "\n",
    "# ===========================\n",
    "#   Jangan diubah ya\n",
    "# ===========================\n",
    "def train_linear_reg(x, y, alpha):\n",
    "    initial_theta = np.ones(x.shape[1])\n",
    "\n",
    "    def cost_func(t):\n",
    "        return linear_reg_cost_function(t, x, y, alpha)[0]\n",
    "\n",
    "    def grad_func(t):\n",
    "        return linear_reg_cost_function(t, x, y, alpha)[1]\n",
    "\n",
    "    theta, *unused = opt.fmin_cg(cost_func, initial_theta, grad_func, maxiter=200, disp=False,\n",
    "                                     full_output=True)\n",
    "\n",
    "    return theta"
   ]
  },
  {
   "cell_type": "markdown",
   "id": "18238a60",
   "metadata": {},
   "source": [
    "Selanjutnya kita panggil method `train_linear_reg` untuk mendapatkan `theta` terbaik dan plot garis regresinya. "
   ]
  },
  {
   "cell_type": "code",
   "execution_count": null,
   "id": "cf9fd155",
   "metadata": {},
   "outputs": [],
   "source": [
    "# ===================== Part 4: Train Linear Regression =====================\n",
    "# Once you have implemented the cost and gradient correctly, the\n",
    "# train_linear_reg function will use your cost function to train the regularized linear regression.\n",
    "#\n",
    "# Train linear regression with alpha = 0\n",
    "alpha = 0\n",
    "\n",
    "theta = train_linear_reg(np.c_[np.ones(m), X], y, alpha)\n",
    "\n",
    "# Plot fit over the data\n",
    "plt.plot(X, np.dot(np.c_[np.ones(m), X], theta))\n",
    "\n",
    "plt.scatter(X, y, c='r', marker=\"x\")\n",
    "plt.xlabel('Change in water level (x)')\n",
    "plt.ylabel('Water folowing out of the dam (y)')"
   ]
  },
  {
   "cell_type": "markdown",
   "id": "9b034fb8",
   "metadata": {},
   "source": [
    "### Pertanyaan Refleksi\n",
    "Apakah model regresi linier yang dibuat cocok dengan dataset yang ada?"
   ]
  },
  {
   "cell_type": "markdown",
   "id": "26663c80",
   "metadata": {},
   "source": [
    "- Meskipun visualisasi untuk mengetahui kecocokan model yang paling sesuai seperti yang ditunjukkan di atas adalah salah satu cara yang mungkin untuk men-debug algoritma pembelajaran anda, memvisualisasikan data dan model tidaklah selalu mudah.\n",
    "- Di bagian berikutnya, anda akan mengimplementasikan fungsi untuk menghasilkan kurva pembelajaran (_learning curve_) yang dapat membantu anda men-debug algoritma pembelajaran jika memvisualisasikan data sulit untuk dilakukan."
   ]
  },
  {
   "cell_type": "markdown",
   "id": "79a280b0",
   "metadata": {},
   "source": [
    "# 2. Bias-variance\n",
    "Konsep penting dalam machine learning adalah pertukaran bias-variance tradeoff. Model dengan **bias tinggi** tidak cukup kompleks untuk data dan cenderung _underfit_, sedangkan model dengan **variance tinggi** mengalami overfit dengan training data.\n",
    "\n",
    "Pada bagian latihan ini, anda akan memplot training dan test errors pada dengan kurva pembelajaran (_learning curve_) untuk mendiagnosa masalah bias-variance."
   ]
  },
  {
   "cell_type": "markdown",
   "id": "98a1cb6c",
   "metadata": {},
   "source": [
    "## 2.1 Learning curve\n",
    "Anda sekarang akan mengimplementasi kode untuk menghasilkan _learning curve_ yang akan berguna dalam men-debug algoritme machine learning.\n",
    "\n",
    "Ingatlah bahwa _learning curve_ memplot training dan validation error sebagai fungsi dari ukuran training set. \n",
    "\n",
    "Tugas anda adalah melengkapi fungsi `learning_curve` sehingga fungsi mengembalikan vektor error untuk training set dan validation set."
   ]
  },
  {
   "cell_type": "code",
   "execution_count": null,
   "id": "535dfa55",
   "metadata": {},
   "outputs": [],
   "source": [
    "def learning_curve(X, y, Xval, yval, alpha):\n",
    "    # Number of training examples\n",
    "    m = X.shape[0]\n",
    "\n",
    "    # You need to return these values correctly\n",
    "    error_train = np.zeros(m)\n",
    "    error_val = np.zeros(m)\n",
    "\n",
    "    # ===================== Your Code Here =====================\n",
    "    # Instruksi : Lengkapi fungsi ini untuk mengembalikan training errors dalam variabel\n",
    "    #                error_train dan validation errors dalm error_val.\n",
    "    #                i.e., error_train[i] and error_val[i] should give you\n",
    "    #                the errors obtained after training on i examples\n",
    "    #\n",
    "    # Catatan : You should evaluate the training error on the first i training\n",
    "    #           examples (i.e. X[:i] and y[:i])\n",
    "    #\n",
    "    #        For the validation error, you should instead evaluate on\n",
    "    #        the _entire_ validation set (Xval and yval).\n",
    "    #\n",
    "    # Note : If you're using your cost function (linear_reg_cost_function)\n",
    "    #        to compute the training and validation error, you should\n",
    "    #        call the function with the alpha argument set to 0.\n",
    "    #        Do note that you will still need to use alpha when running the\n",
    "    #        training to obtain the theta parameters.\n",
    "    #\n",
    "    for i in range(m):\n",
    "        x_i = # Write your code here\n",
    "        y_i = # Write your code here\n",
    "        theta = # Write your code here\n",
    "\n",
    "        error_train[i] = # Write your code here\n",
    "        error_val[i] = # Write your code here\n",
    "\n",
    "    # ==========================================================\n",
    "\n",
    "    return error_train, error_val"
   ]
  },
  {
   "cell_type": "markdown",
   "id": "539f2a96",
   "metadata": {},
   "source": [
    "Untuk memplot learning curve, kita memerlukan training set dan validation error untuk _training set size_ yang berbeda. "
   ]
  },
  {
   "cell_type": "code",
   "execution_count": null,
   "id": "eaf9bfd3",
   "metadata": {},
   "outputs": [],
   "source": [
    "# ===================== Part 5: Learning Curve for Linear Regression =====================\n",
    "# Next, you should have implemented the learning_curve function.\n",
    "# Now you are going to call the function.\n",
    "\n",
    "alpha = 0\n",
    "error_train, error_val = learning_curve(np.c_[np.ones(m), X], y, np.c_[np.ones(Xval.shape[0]), Xval], yval, alpha)\n",
    "\n",
    "plt.figure()\n",
    "plt.plot(np.arange(m), error_train, np.arange(m), error_val)\n",
    "plt.title('Learning Curve for Linear Regression')\n",
    "plt.legend(['Train', 'Cross Validation'])\n",
    "plt.xlabel('Number of Training Examples')\n",
    "plt.ylabel('Error')\n",
    "plt.axis([0, 13, 0, 150])"
   ]
  },
  {
   "cell_type": "markdown",
   "id": "6907289c",
   "metadata": {},
   "source": [
    "## Pertanyaan Refleksi\n",
    "Bagaimanakah _performance_ dari model linear regression di atas? \n",
    "\n",
    "**Hint**: Jelaskan dari konsep bias-nya"
   ]
  },
  {
   "cell_type": "markdown",
   "id": "131e3294",
   "metadata": {},
   "source": [
    "# Polynomial regression\n",
    "- Masalah dengan model linier yang sudah dibuat adalah model linier terlalu sederhana untuk data dan menghasilkan underfitting (bias tinggi). \n",
    "- Di bagian latihan ini, anda akan mengatasi masalah ini dengan menambahkan lebih banyak fitur."
   ]
  },
  {
   "cell_type": "markdown",
   "id": "86068863",
   "metadata": {},
   "source": [
    "Untuk menggunakan regresi polinomial (_polynomial regression_), hipotesis anda akan berbentuk:\n",
    "\n",
    "$$\n",
    "\\begin{align}\n",
    "    h_\\theta(x) &= \\theta_0 + \\theta_1 \\times (\\text{waterLevel}) + \\theta_2 \\times (\\text{waterLevel})^2 + \\cdots + \\theta_p \\times (\\text{waterLevel})^p \\\\\n",
    "                &= \\theta_0 + \\theta_1 x_1 + \\theta_2 x_2 + \\cdots + \\theta_p x_p. \n",
    "\\end{align}\n",
    "$$"
   ]
  },
  {
   "cell_type": "markdown",
   "id": "4f337118",
   "metadata": {},
   "source": [
    "Perhatikan bahwa dengan mendefinisikan $x_1 = (\\text{waterLevel})$, $x_2 = (\\text{waterLevel})^2$, $\\ldots$, $x_p = (\\text{waterLevel})^p$, anda memperoleh model regresi linier dengan fiturnya adalah berbagai pangkat dari nilai asli ($\\text{waterLevel}$)."
   ]
  },
  {
   "cell_type": "code",
   "execution_count": null,
   "id": "6e6209e5",
   "metadata": {},
   "outputs": [],
   "source": [
    "def poly_features(X, p):\n",
    "    # You need to return the following variable correctly.\n",
    "    X_poly = np.zeros((X.size, p))\n",
    "\n",
    "    # ===================== Write Your Code Here =====================\n",
    "    # Instruksi : Diberikan vektor X, return a matrix X_poly where the p-th\n",
    "    #                column of X contains the values of X to the p-th power.\n",
    "    #\n",
    "\n",
    "    P = # Write your code here\n",
    "\n",
    "    X_poly = # Write your code here\n",
    "\n",
    "    # ==========================================================\n",
    "\n",
    "    return X_poly"
   ]
  },
  {
   "cell_type": "code",
   "execution_count": null,
   "id": "b0015d0f",
   "metadata": {},
   "outputs": [],
   "source": [
    "# =====================\n",
    "#   Jangan diubah ya\n",
    "# =====================\n",
    "import matplotlib.pyplot as plt\n",
    "\n",
    "def plot_fit(min_x, max_x, mu, sigma, theta, p):\n",
    "    x = np.arange(min_x - 15, max_x + 25, 0.05)\n",
    "\n",
    "    X_poly = poly_features(x, p)\n",
    "    X_poly -= mu\n",
    "    X_poly /= sigma\n",
    "\n",
    "    X_poly = np.c_[np.ones(x.size), X_poly]\n",
    "\n",
    "    plt.plot(x, np.dot(X_poly, theta))"
   ]
  },
  {
   "cell_type": "markdown",
   "id": "df54cc37",
   "metadata": {},
   "source": [
    "## 3.1 Polynomial regression"
   ]
  },
  {
   "cell_type": "markdown",
   "id": "c210c02d",
   "metadata": {},
   "source": [
    "Setelah anda melengkapi fungsi `poly_features`, anda akan melanjutkan dengan melatih regresi polinomial menggunakan cost function regresi linier anda."
   ]
  },
  {
   "cell_type": "markdown",
   "id": "c340d008",
   "metadata": {},
   "source": [
    "Untuk bagian latihan ini, anda akan menggunakan polinomial berderajat $8$.\n",
    "Ternyata jika anda melatih pada data yang diproyeksikan (data berpolinomial berderajat $8$), _training_ tidak akan berjalan dengan baik karena fitur akan diskalakan dengan amat buruk (misalnya, contoh dengan $x = 40$ sekarang akan memiliki fitur $x^8 = 40^8 = 6,5 × 10^{12}$). Oleh karena itu, anda perlu menggunakan normalisasi fitur (_feature normalization_)."
   ]
  },
  {
   "cell_type": "code",
   "execution_count": null,
   "id": "0ab3adcb",
   "metadata": {},
   "outputs": [],
   "source": [
    "# =======================\n",
    "#    Jangan diubah ya\n",
    "# =======================\n",
    "import numpy as np\n",
    "\n",
    "def feature_normalize(X):\n",
    "    mu = np.mean(X, 0)\n",
    "    sigma = np.std(X, 0, ddof=1)\n",
    "    X_norm = (X - mu) / sigma\n",
    "\n",
    "    return X_norm, mu, sigma"
   ]
  },
  {
   "cell_type": "code",
   "execution_count": null,
   "id": "6bcbdbaa",
   "metadata": {},
   "outputs": [],
   "source": [
    "# =======================\n",
    "#    Jangan diubah ya\n",
    "# =======================\n",
    "p = 8\n",
    "\n",
    "# Map X onto Polynomial Features and Normalize\n",
    "X_poly = poly_features(X, p)\n",
    "X_poly, mu, sigma = feature_normalize(X_poly)\n",
    "X_poly = np.c_[np.ones(m), X_poly]\n",
    "\n",
    "# Map X_poly_test and normalize (using mu and sigma)\n",
    "X_poly_test = poly_features(Xtest, p)\n",
    "X_poly_test -= mu\n",
    "X_poly_test /= sigma\n",
    "X_poly_test = np.c_[np.ones(X_poly_test.shape[0]), X_poly_test]\n",
    "\n",
    "# Map X_poly_val and normalize (using mu and sigma)\n",
    "X_poly_val = poly_features(Xval, p)\n",
    "X_poly_val -= mu\n",
    "X_poly_val /= sigma\n",
    "X_poly_val = np.c_[np.ones(X_poly_val.shape[0]), X_poly_val]\n",
    "\n",
    "print('Normalized Training Example 1 : \\n{}'.format(X_poly[0]))"
   ]
  },
  {
   "cell_type": "code",
   "execution_count": null,
   "id": "43a3770d",
   "metadata": {},
   "outputs": [],
   "source": [
    "# ===================== Part 7 : Learning Curve for Polynomial Regression =====================\n",
    "# Now, you will get to experiment with polynomial regression by using multiple\n",
    "# values of alpha. The code below runs polynomial regression with\n",
    "# alpha = 0. You should try running the code with different values of\n",
    "# alpha to see how the fit and learning curve change.\n",
    "#\n",
    "\n",
    "alpha = 0\n",
    "theta = train_linear_reg(X_poly, y, alpha)\n",
    "\n",
    "# Plot training data and fit\n",
    "plt.figure()\n",
    "plt.scatter(X, y, c='r', marker=\"x\")\n",
    "plot_fit(np.min(X), np.max(X), mu, sigma, theta, p)\n",
    "plt.xlabel('Change in water level (x)')\n",
    "plt.ylabel('Water folowing out of the dam (y)')\n",
    "plt.ylim([0, 60])\n",
    "plt.title('Polynomial Regression Fit (alpha = {})'.format(alpha))\n",
    "\n",
    "error_train, error_val = learning_curve(X_poly, y, X_poly_val, yval, alpha)\n",
    "plt.figure()\n",
    "plt.plot(np.arange(m), error_train, np.arange(m), error_val)\n",
    "plt.title('Polynomial Regression Learning Curve (lambda = {})'.format(alpha))\n",
    "plt.legend(['Train', 'Validation'])\n",
    "plt.xlabel('Number of Training Examples')\n",
    "plt.ylabel('Error')\n",
    "plt.axis([0, 13, 0, 150])\n",
    "\n",
    "print('Polynomial Regression (alpha = {})'.format(alpha))\n",
    "print('# Training Examples\\tTrain Error\\t\\tValidation Error')\n",
    "for i in range(m):\n",
    "    print('  \\t{}\\t\\t{}\\t{}'.format(i, error_train[i], error_val[i]))"
   ]
  },
  {
   "cell_type": "markdown",
   "id": "8e3a2197",
   "metadata": {},
   "source": [
    "### Pertanyaan Refleksi\n",
    "1. Apakah model _polynomial regression_ cocok dengan dataset?\n",
    "2. Jelaskan _training error_ yang terjadi?\n",
    "3. Jelaskan _validation error_ yang terjadi?\n",
    "4. Apakah yang terjadi pada model tersebut setelah model belajar dari $12$ training examples?\n",
    "5. Coba anda lakukan kembali eksperimen di atas dengan $\\alpha = 1$.\n",
    "6. Apakah yang terjadi dengan model tersebut ketika anda menggunakan $\\alpha = 1$?\n",
    "5. Coba anda lakukan kembali eksperimen di atas dengan $\\alpha = 100$.\n",
    "6. Apakah yang terjadi dengan model tersebut ketika anda menggunakan $\\alpha = 100$?"
   ]
  },
  {
   "cell_type": "markdown",
   "id": "c6487f1b",
   "metadata": {},
   "source": [
    "## 3.3 Memilih $\\alpha$ berdasarkan validation set"
   ]
  },
  {
   "cell_type": "markdown",
   "id": "6ba06ccf",
   "metadata": {},
   "source": [
    "Di bagian ini, anda akan menerapkan metode otomatis untuk memilih $\\alpha$ parameter.\n",
    "\n",
    "Secara konkret, anda akan menggunakan validation set untuk mengevaluasi seberapa baik setiap nilai $\\alpha$. \n",
    "Setelah anda memilih nilai $\\alpha$ terbaik dengan menggunakan validation set, kemudian anda dapat mengevaluasi model pada test set untuk memperkirakan seberapa baik prediksi model pada data aktual yang tidak terlihat."
   ]
  },
  {
   "cell_type": "markdown",
   "id": "4e588f4f",
   "metadata": {},
   "source": [
    "Tugas Anda adalah melengkapi kode di fungsi `validation_curve`. \n",
    "Secara khusus, anda harus menggunakan fungsi `train_linear_reg` untuk melatih model dengan menggunakan nilai $\\alpha$ yang berbeda dan menghitung training error dan validation error.    \n",
    "Anda sebaiknya mencoba $\\alpha$ dalam rentang sbb: {0, 0.001, 0.003, 0.01, 0.03, 0.1, 0.3, 1, 3, 10}."
   ]
  },
  {
   "cell_type": "code",
   "execution_count": null,
   "id": "28a57809",
   "metadata": {},
   "outputs": [],
   "source": [
    "def validation_curve(X, y, Xval, yval):\n",
    "    # Selected values of alpha (don't change this)\n",
    "    alpha_vec = np.array([0., 0.001, 0.003, 0.01, 0.03, 0.1, 0.3, 1, 3, 10])\n",
    "\n",
    "    # You need to return these variables correctly.\n",
    "    error_train = np.zeros(alpha_vec.size)\n",
    "    error_val = np.zeros(alpha_vec.size)\n",
    "\n",
    "    # ===================== Write Your Code Here =====================\n",
    "    # Instruksi : Lengkapi fungsi ini untuk mengembalikan training errors dalam variabel\n",
    "    #                error_train and the validation errors dalam error_val. The\n",
    "    #                vector alpha_vec contains the different alpha parameters\n",
    "    #                to use for each calculation of the errors, i.e,\n",
    "    #                error_train[i], and error_val[i] should give\n",
    "    #                you the errors obtained after training with\n",
    "    #                alpha = alpha_vec[i]\n",
    "    #\n",
    "\n",
    "    for i in range(alpha_vec.size):\n",
    "        alpha = # Write your code here\n",
    "        theta = # Write your code here\n",
    "\n",
    "        error_train[i] = # Write your code here\n",
    "        error_val[i]   = # Write your code here\n",
    "\n",
    "    # ==========================================================\n",
    "\n",
    "    return alpha_vec, error_train, error_val"
   ]
  },
  {
   "cell_type": "code",
   "execution_count": null,
   "id": "3666688c",
   "metadata": {},
   "outputs": [],
   "source": [
    "# ===================== Part 8 : Validation for Selecting Alpha =====================\n",
    "# You will now implement validation_curve to test various values of\n",
    "# alpha on a validation set. You will then use this to select the\n",
    "# 'best' alpha value.\n",
    "\n",
    "# ====================\n",
    "#  Jangan diubah ya\n",
    "# ====================\n",
    "alpha_vec, error_train, error_val = validation_curve(X_poly, y, X_poly_val, yval)\n",
    "\n",
    "plt.figure()\n",
    "plt.plot(alpha_vec, error_train, alpha_vec, error_val)\n",
    "plt.legend(['Train', 'Validation'])\n",
    "plt.xlabel('Alpha')\n",
    "plt.ylabel('Error')\n"
   ]
  },
  {
   "cell_type": "markdown",
   "id": "c531619d",
   "metadata": {},
   "source": [
    "### Pertanyaan Refleksi\n",
    "Berdasarkan plot di atas, berapakah nilai $\\alpha$ yang terbaik?     \n",
    "**Hint**: Pilih $\\alpha$ bilangan bulat. \n"
   ]
  },
  {
   "cell_type": "markdown",
   "id": "168ca74c",
   "metadata": {},
   "source": [
    "## 3.4 Hitung error pada test set "
   ]
  },
  {
   "cell_type": "markdown",
   "id": "a5af4c2e",
   "metadata": {},
   "source": [
    "Finally, anda akan menghitung error pada test set atau yang biasa disebut _test error_.    \n",
    "Sebelum anda menghitung _test error_, anda akan melatih model dengan menggunakan gabungan train set dan validation set dan best $\\alpha$. "
   ]
  },
  {
   "cell_type": "markdown",
   "id": "bc2ef4f6",
   "metadata": {},
   "source": [
    "Anda gabungkan `X_poly` dan `X_poly_val`."
   ]
  },
  {
   "cell_type": "code",
   "execution_count": null,
   "id": "bc510cf1",
   "metadata": {},
   "outputs": [],
   "source": [
    "#### Write Your Code Here ####\n",
    "X_train_final = # Write your code here"
   ]
  },
  {
   "cell_type": "markdown",
   "id": "c6c739a6",
   "metadata": {},
   "source": [
    "Anda gabungkan `y` dan `yval`."
   ]
  },
  {
   "cell_type": "code",
   "execution_count": null,
   "id": "e23e77c6",
   "metadata": {},
   "outputs": [],
   "source": [
    "#### Write Your Code Here ####\n",
    "y_train_final = # Write your code here"
   ]
  },
  {
   "cell_type": "markdown",
   "id": "c3ad1bf1",
   "metadata": {},
   "source": [
    "Hitunglah $\\theta$ yang merupakan hasil latih linear regression dengan $\\alpha$ terbaik.    \n",
    "**Hint**: Gunakan fungsi `train_linear_reg`"
   ]
  },
  {
   "cell_type": "code",
   "execution_count": null,
   "id": "8615256a",
   "metadata": {},
   "outputs": [],
   "source": [
    "#### Write Your Code Here ####\n",
    "theta_final = # Write your code here"
   ]
  },
  {
   "cell_type": "markdown",
   "id": "15adebc6",
   "metadata": {},
   "source": [
    "Hitunglah test error dengan pada `X_poly_test` dan `ytest`.    \n",
    "\n",
    "**Hint**: Gunakan fungsi `linear_reg_cost_function`"
   ]
  },
  {
   "cell_type": "code",
   "execution_count": null,
   "id": "e3bae984",
   "metadata": {},
   "outputs": [],
   "source": [
    "#### Write Your Code Here ####\n"
   ]
  },
  {
   "cell_type": "markdown",
   "id": "752b4f12",
   "metadata": {},
   "source": [
    "<center><h1>The End</h1></center>"
   ]
  }
 ],
 "metadata": {
  "kernelspec": {
   "display_name": "Python 3 (ipykernel)",
   "language": "python",
   "name": "python3"
  },
  "language_info": {
   "codemirror_mode": {
    "name": "ipython",
    "version": 3
   },
   "file_extension": ".py",
   "mimetype": "text/x-python",
   "name": "python",
   "nbconvert_exporter": "python",
   "pygments_lexer": "ipython3",
   "version": "3.9.13"
  }
 },
 "nbformat": 4,
 "nbformat_minor": 5
}
