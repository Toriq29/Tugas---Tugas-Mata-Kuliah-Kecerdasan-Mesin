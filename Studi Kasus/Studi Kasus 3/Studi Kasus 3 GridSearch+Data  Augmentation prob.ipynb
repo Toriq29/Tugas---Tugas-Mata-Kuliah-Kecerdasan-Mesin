{
 "cells": [
  {
   "cell_type": "markdown",
   "id": "74153038",
   "metadata": {},
   "source": [
    "<a id=\"home\">Studi kasus di Praktikum ke-3 ini terdiri dari</a>\n",
    "1. [Cari _hyperparameter_ yang pas untuk $K$-nearest neighbors ($K$-nn)](#part-i),\n",
    "2. [Menggunakan _data augmentation_ untuk $K$-nearest neighbors ($K$-nn)](#part-ii)"
   ]
  },
  {
   "cell_type": "markdown",
   "id": "4aa7295f",
   "metadata": {},
   "source": [
    "# <a id=\"part-i\">Part I: _Hyperparameter_ untuk $K$-Nearest Neighbors</a> (Back to [Home](#home))"
   ]
  },
  {
   "cell_type": "markdown",
   "id": "ac4f47dd",
   "metadata": {},
   "source": [
    "Kita import semua library"
   ]
  },
  {
   "cell_type": "code",
   "execution_count": 19,
   "id": "ef36ae5e",
   "metadata": {},
   "outputs": [],
   "source": [
    "import sklearn\n",
    "import matplotlib.pyplot as plt\n",
    "\n",
    "plt.rc('font', size=14)\n",
    "plt.rc('axes', labelsize=14, titlesize=14)\n",
    "plt.rc('legend', fontsize=14)\n",
    "plt.rc('xtick', labelsize=10)\n",
    "plt.rc('ytick', labelsize=10)"
   ]
  },
  {
   "cell_type": "markdown",
   "id": "32baf528",
   "metadata": {},
   "source": [
    "Kita import dataset MNIST ke variable `mnist.     \n",
    "   \n",
    "**Hint**: gunakan method `fetch_openml` dengan parameter sbb:\n",
    "- `mnist_784`, \n",
    "- `as_frame` adalah `False`, dan \n",
    "- `parser` adalah `auto`."
   ]
  },
  {
   "cell_type": "code",
   "execution_count": 20,
   "id": "435d1d4a",
   "metadata": {},
   "outputs": [],
   "source": [
    "from sklearn.datasets import fetch_openml\n",
    "\n",
    "mnist = fetch_openml('mnist_784', as_frame=False)\n"
   ]
  },
  {
   "cell_type": "markdown",
   "id": "2b036959",
   "metadata": {},
   "source": [
    "Assign masing-masing `mnist.data` dan `mnist.target` ke `X` dan `y`. "
   ]
  },
  {
   "cell_type": "code",
   "execution_count": 21,
   "id": "18151791",
   "metadata": {},
   "outputs": [],
   "source": [
    "X , y = mnist.data, mnist.target\n"
   ]
  },
  {
   "cell_type": "markdown",
   "id": "48c1a7ca",
   "metadata": {},
   "source": [
    "Bagi `X` menjadi `X_train` dan `X_test` dengan pembagian sbb:\n",
    "- `X_train` adalah `60000` instance pertama dan `X_test` adalah sisanya."
   ]
  },
  {
   "cell_type": "code",
   "execution_count": 22,
   "id": "65167c61",
   "metadata": {},
   "outputs": [],
   "source": [
    "X_train, X_test, y_train, y_test = X[:60000], X[60000:], y[:60000], y[60000:]\n"
   ]
  },
  {
   "cell_type": "code",
   "execution_count": 23,
   "id": "185cd3ab",
   "metadata": {},
   "outputs": [
    {
     "data": {
      "text/plain": [
       "(70000, 784)"
      ]
     },
     "execution_count": 23,
     "metadata": {},
     "output_type": "execute_result"
    }
   ],
   "source": [
    "X.shape"
   ]
  },
  {
   "cell_type": "code",
   "execution_count": 24,
   "id": "616e043f",
   "metadata": {},
   "outputs": [
    {
     "data": {
      "text/plain": [
       "array(['5', '0', '4', ..., '4', '5', '6'], dtype=object)"
      ]
     },
     "execution_count": 24,
     "metadata": {},
     "output_type": "execute_result"
    }
   ],
   "source": [
    "y"
   ]
  },
  {
   "cell_type": "markdown",
   "id": "d2eb1017",
   "metadata": {},
   "source": [
    "Kita import `numpy` dan $K$-nearest neighbors."
   ]
  },
  {
   "cell_type": "code",
   "execution_count": 25,
   "id": "f62f92ee",
   "metadata": {},
   "outputs": [],
   "source": [
    "import numpy as np\n",
    "from sklearn.neighbors import KNeighborsClassifier"
   ]
  },
  {
   "cell_type": "markdown",
   "id": "e826b650",
   "metadata": {},
   "source": [
    "Kita buat instance yang bernama `knn_clf` dari kelas `KNeighborsClassifier`."
   ]
  },
  {
   "cell_type": "code",
   "execution_count": 26,
   "id": "6069c10b",
   "metadata": {},
   "outputs": [],
   "source": [
    "knn_clf = KNeighborsClassifier()\n"
   ]
  },
  {
   "cell_type": "markdown",
   "id": "5b808a1e",
   "metadata": {},
   "source": [
    "Kita latih `knn_clf` dengan menggunakan `X_train` dan `y_train`."
   ]
  },
  {
   "cell_type": "code",
   "execution_count": 27,
   "id": "39f3cf12",
   "metadata": {},
   "outputs": [
    {
     "data": {
      "text/plain": [
       "KNeighborsClassifier()"
      ]
     },
     "execution_count": 27,
     "metadata": {},
     "output_type": "execute_result"
    }
   ],
   "source": [
    "knn_clf.fit(X_train, y_train)\n"
   ]
  },
  {
   "cell_type": "markdown",
   "id": "ed38f8bf",
   "metadata": {},
   "source": [
    "Marilah kita hitung accuracy dari prediksi `knn_clf` pada `X_test` dan `y_test` dengan menggunakan method `score`.   \n",
    "Simpanlah hasil `score` di variabel `baseline_accuracy`."
   ]
  },
  {
   "cell_type": "code",
   "execution_count": 28,
   "id": "a6674a24",
   "metadata": {},
   "outputs": [
    {
     "name": "stderr",
     "output_type": "stream",
     "text": [
      "C:\\ProgramData\\Anaconda3\\lib\\site-packages\\sklearn\\neighbors\\_classification.py:228: FutureWarning: Unlike other reduction functions (e.g. `skew`, `kurtosis`), the default behavior of `mode` typically preserves the axis it acts along. In SciPy 1.11.0, this behavior will change: the default value of `keepdims` will become False, the `axis` over which the statistic is taken will be eliminated, and the value None will no longer be accepted. Set `keepdims` to True or False to avoid this warning.\n",
      "  mode, _ = stats.mode(_y[neigh_ind, k], axis=1)\n"
     ]
    }
   ],
   "source": [
    "baseline_accuracy = knn_clf.score(X_test,y_test)\n"
   ]
  },
  {
   "cell_type": "markdown",
   "id": "3800b6bb",
   "metadata": {},
   "source": [
    "Kita cetak akurasi model baseline ini.     \n",
    "Model baseline ini menggunakan setting _hyperparameter_ yang _default_."
   ]
  },
  {
   "cell_type": "code",
   "execution_count": 29,
   "id": "7a76164a",
   "metadata": {},
   "outputs": [
    {
     "name": "stdout",
     "output_type": "stream",
     "text": [
      "Akurasi di baseline adalah 0.9688\n"
     ]
    }
   ],
   "source": [
    "print(f\"Akurasi di baseline adalah {baseline_accuracy}\")"
   ]
  },
  {
   "cell_type": "markdown",
   "id": "705c2d7f",
   "metadata": {},
   "source": [
    "### Pertanyaan Refleksi\n",
    "> _Berapakah akurasi model baseline yang diperoleh?_   \n",
    "Jawaban :\n",
    "97%\n",
    "\n",
    "Selanjutnya kita akan improve akurasi model baseline ini dengan **Grid Search**."
   ]
  },
  {
   "cell_type": "markdown",
   "id": "881e9306",
   "metadata": {},
   "source": [
    "Kita akan menggunakan grid search; oleh karena itu kita import `GridSearchCV`, yaitu pencarian _hyperparameter_ terbaik dengan _cross-validation_."
   ]
  },
  {
   "cell_type": "code",
   "execution_count": 67,
   "id": "4a41682e",
   "metadata": {},
   "outputs": [],
   "source": [
    "from sklearn.model_selection import GridSearchCV"
   ]
  },
  {
   "cell_type": "markdown",
   "id": "a139609a",
   "metadata": {},
   "source": [
    "Kita akan membuat nilai-nilai _hyperparameter_ yang akan diujicobakan sebagai berikut:\n",
    "Buatlah _dictionary_ yang bernama `param_grid` dengan _key_-_values_ adalah \n",
    "- `weights` adalah `uniform` dan `distance`\n",
    "- `n_neighbors` adalah `3`, `4`, `5`, `6`, dan `7`"
   ]
  },
  {
   "cell_type": "code",
   "execution_count": 68,
   "id": "1a6a08f5",
   "metadata": {},
   "outputs": [],
   "source": [
    "param_grid = [{'weights':['uniform', 'distance'],\n",
    "             'n_neighbors':[3,4,5,6,7]}]"
   ]
  },
  {
   "cell_type": "markdown",
   "id": "306ea1c9",
   "metadata": {},
   "source": [
    "Kembali kita buat `knn_clf` dari kelas `KNeighborsClassifier`. "
   ]
  },
  {
   "cell_type": "code",
   "execution_count": 69,
   "id": "e8c5f3af",
   "metadata": {},
   "outputs": [],
   "source": [
    "knn_clf = KNeighborsClassifier()\n"
   ]
  },
  {
   "cell_type": "markdown",
   "id": "0f57ff1a",
   "metadata": {},
   "source": [
    "Kita buat instance yang bernama `grid_search` dari kelas `GridSearchCV` dengan parameter adalah\n",
    "- `knn_clf`,\n",
    "- `param_grifd` yang sudah dibuat, dan\n",
    "- jumlah fold `cv` adalah `5`. "
   ]
  },
  {
   "cell_type": "code",
   "execution_count": 70,
   "id": "46f4a947",
   "metadata": {},
   "outputs": [],
   "source": [
    "grid_search = GridSearchCV(knn_clf, param_grid, cv=5)"
   ]
  },
  {
   "cell_type": "markdown",
   "id": "d374374a",
   "metadata": {},
   "source": [
    "Kita akan menggunakan `grid_search` pada **10ribu** instance yang pertama dari `X_train` dan `y_train`."
   ]
  },
  {
   "cell_type": "code",
   "execution_count": 71,
   "id": "927e9a38",
   "metadata": {},
   "outputs": [
    {
     "name": "stderr",
     "output_type": "stream",
     "text": [
      "C:\\ProgramData\\Anaconda3\\lib\\site-packages\\sklearn\\neighbors\\_classification.py:228: FutureWarning: Unlike other reduction functions (e.g. `skew`, `kurtosis`), the default behavior of `mode` typically preserves the axis it acts along. In SciPy 1.11.0, this behavior will change: the default value of `keepdims` will become False, the `axis` over which the statistic is taken will be eliminated, and the value None will no longer be accepted. Set `keepdims` to True or False to avoid this warning.\n",
      "  mode, _ = stats.mode(_y[neigh_ind, k], axis=1)\n",
      "C:\\ProgramData\\Anaconda3\\lib\\site-packages\\sklearn\\neighbors\\_classification.py:228: FutureWarning: Unlike other reduction functions (e.g. `skew`, `kurtosis`), the default behavior of `mode` typically preserves the axis it acts along. In SciPy 1.11.0, this behavior will change: the default value of `keepdims` will become False, the `axis` over which the statistic is taken will be eliminated, and the value None will no longer be accepted. Set `keepdims` to True or False to avoid this warning.\n",
      "  mode, _ = stats.mode(_y[neigh_ind, k], axis=1)\n",
      "C:\\ProgramData\\Anaconda3\\lib\\site-packages\\sklearn\\neighbors\\_classification.py:228: FutureWarning: Unlike other reduction functions (e.g. `skew`, `kurtosis`), the default behavior of `mode` typically preserves the axis it acts along. In SciPy 1.11.0, this behavior will change: the default value of `keepdims` will become False, the `axis` over which the statistic is taken will be eliminated, and the value None will no longer be accepted. Set `keepdims` to True or False to avoid this warning.\n",
      "  mode, _ = stats.mode(_y[neigh_ind, k], axis=1)\n",
      "C:\\ProgramData\\Anaconda3\\lib\\site-packages\\sklearn\\neighbors\\_classification.py:228: FutureWarning: Unlike other reduction functions (e.g. `skew`, `kurtosis`), the default behavior of `mode` typically preserves the axis it acts along. In SciPy 1.11.0, this behavior will change: the default value of `keepdims` will become False, the `axis` over which the statistic is taken will be eliminated, and the value None will no longer be accepted. Set `keepdims` to True or False to avoid this warning.\n",
      "  mode, _ = stats.mode(_y[neigh_ind, k], axis=1)\n",
      "C:\\ProgramData\\Anaconda3\\lib\\site-packages\\sklearn\\neighbors\\_classification.py:228: FutureWarning: Unlike other reduction functions (e.g. `skew`, `kurtosis`), the default behavior of `mode` typically preserves the axis it acts along. In SciPy 1.11.0, this behavior will change: the default value of `keepdims` will become False, the `axis` over which the statistic is taken will be eliminated, and the value None will no longer be accepted. Set `keepdims` to True or False to avoid this warning.\n",
      "  mode, _ = stats.mode(_y[neigh_ind, k], axis=1)\n",
      "C:\\ProgramData\\Anaconda3\\lib\\site-packages\\sklearn\\neighbors\\_classification.py:228: FutureWarning: Unlike other reduction functions (e.g. `skew`, `kurtosis`), the default behavior of `mode` typically preserves the axis it acts along. In SciPy 1.11.0, this behavior will change: the default value of `keepdims` will become False, the `axis` over which the statistic is taken will be eliminated, and the value None will no longer be accepted. Set `keepdims` to True or False to avoid this warning.\n",
      "  mode, _ = stats.mode(_y[neigh_ind, k], axis=1)\n",
      "C:\\ProgramData\\Anaconda3\\lib\\site-packages\\sklearn\\neighbors\\_classification.py:228: FutureWarning: Unlike other reduction functions (e.g. `skew`, `kurtosis`), the default behavior of `mode` typically preserves the axis it acts along. In SciPy 1.11.0, this behavior will change: the default value of `keepdims` will become False, the `axis` over which the statistic is taken will be eliminated, and the value None will no longer be accepted. Set `keepdims` to True or False to avoid this warning.\n",
      "  mode, _ = stats.mode(_y[neigh_ind, k], axis=1)\n",
      "C:\\ProgramData\\Anaconda3\\lib\\site-packages\\sklearn\\neighbors\\_classification.py:228: FutureWarning: Unlike other reduction functions (e.g. `skew`, `kurtosis`), the default behavior of `mode` typically preserves the axis it acts along. In SciPy 1.11.0, this behavior will change: the default value of `keepdims` will become False, the `axis` over which the statistic is taken will be eliminated, and the value None will no longer be accepted. Set `keepdims` to True or False to avoid this warning.\n",
      "  mode, _ = stats.mode(_y[neigh_ind, k], axis=1)\n",
      "C:\\ProgramData\\Anaconda3\\lib\\site-packages\\sklearn\\neighbors\\_classification.py:228: FutureWarning: Unlike other reduction functions (e.g. `skew`, `kurtosis`), the default behavior of `mode` typically preserves the axis it acts along. In SciPy 1.11.0, this behavior will change: the default value of `keepdims` will become False, the `axis` over which the statistic is taken will be eliminated, and the value None will no longer be accepted. Set `keepdims` to True or False to avoid this warning.\n",
      "  mode, _ = stats.mode(_y[neigh_ind, k], axis=1)\n",
      "C:\\ProgramData\\Anaconda3\\lib\\site-packages\\sklearn\\neighbors\\_classification.py:228: FutureWarning: Unlike other reduction functions (e.g. `skew`, `kurtosis`), the default behavior of `mode` typically preserves the axis it acts along. In SciPy 1.11.0, this behavior will change: the default value of `keepdims` will become False, the `axis` over which the statistic is taken will be eliminated, and the value None will no longer be accepted. Set `keepdims` to True or False to avoid this warning.\n",
      "  mode, _ = stats.mode(_y[neigh_ind, k], axis=1)\n",
      "C:\\ProgramData\\Anaconda3\\lib\\site-packages\\sklearn\\neighbors\\_classification.py:228: FutureWarning: Unlike other reduction functions (e.g. `skew`, `kurtosis`), the default behavior of `mode` typically preserves the axis it acts along. In SciPy 1.11.0, this behavior will change: the default value of `keepdims` will become False, the `axis` over which the statistic is taken will be eliminated, and the value None will no longer be accepted. Set `keepdims` to True or False to avoid this warning.\n",
      "  mode, _ = stats.mode(_y[neigh_ind, k], axis=1)\n",
      "C:\\ProgramData\\Anaconda3\\lib\\site-packages\\sklearn\\neighbors\\_classification.py:228: FutureWarning: Unlike other reduction functions (e.g. `skew`, `kurtosis`), the default behavior of `mode` typically preserves the axis it acts along. In SciPy 1.11.0, this behavior will change: the default value of `keepdims` will become False, the `axis` over which the statistic is taken will be eliminated, and the value None will no longer be accepted. Set `keepdims` to True or False to avoid this warning.\n",
      "  mode, _ = stats.mode(_y[neigh_ind, k], axis=1)\n",
      "C:\\ProgramData\\Anaconda3\\lib\\site-packages\\sklearn\\neighbors\\_classification.py:228: FutureWarning: Unlike other reduction functions (e.g. `skew`, `kurtosis`), the default behavior of `mode` typically preserves the axis it acts along. In SciPy 1.11.0, this behavior will change: the default value of `keepdims` will become False, the `axis` over which the statistic is taken will be eliminated, and the value None will no longer be accepted. Set `keepdims` to True or False to avoid this warning.\n",
      "  mode, _ = stats.mode(_y[neigh_ind, k], axis=1)\n",
      "C:\\ProgramData\\Anaconda3\\lib\\site-packages\\sklearn\\neighbors\\_classification.py:228: FutureWarning: Unlike other reduction functions (e.g. `skew`, `kurtosis`), the default behavior of `mode` typically preserves the axis it acts along. In SciPy 1.11.0, this behavior will change: the default value of `keepdims` will become False, the `axis` over which the statistic is taken will be eliminated, and the value None will no longer be accepted. Set `keepdims` to True or False to avoid this warning.\n",
      "  mode, _ = stats.mode(_y[neigh_ind, k], axis=1)\n",
      "C:\\ProgramData\\Anaconda3\\lib\\site-packages\\sklearn\\neighbors\\_classification.py:228: FutureWarning: Unlike other reduction functions (e.g. `skew`, `kurtosis`), the default behavior of `mode` typically preserves the axis it acts along. In SciPy 1.11.0, this behavior will change: the default value of `keepdims` will become False, the `axis` over which the statistic is taken will be eliminated, and the value None will no longer be accepted. Set `keepdims` to True or False to avoid this warning.\n",
      "  mode, _ = stats.mode(_y[neigh_ind, k], axis=1)\n",
      "C:\\ProgramData\\Anaconda3\\lib\\site-packages\\sklearn\\neighbors\\_classification.py:228: FutureWarning: Unlike other reduction functions (e.g. `skew`, `kurtosis`), the default behavior of `mode` typically preserves the axis it acts along. In SciPy 1.11.0, this behavior will change: the default value of `keepdims` will become False, the `axis` over which the statistic is taken will be eliminated, and the value None will no longer be accepted. Set `keepdims` to True or False to avoid this warning.\n",
      "  mode, _ = stats.mode(_y[neigh_ind, k], axis=1)\n",
      "C:\\ProgramData\\Anaconda3\\lib\\site-packages\\sklearn\\neighbors\\_classification.py:228: FutureWarning: Unlike other reduction functions (e.g. `skew`, `kurtosis`), the default behavior of `mode` typically preserves the axis it acts along. In SciPy 1.11.0, this behavior will change: the default value of `keepdims` will become False, the `axis` over which the statistic is taken will be eliminated, and the value None will no longer be accepted. Set `keepdims` to True or False to avoid this warning.\n",
      "  mode, _ = stats.mode(_y[neigh_ind, k], axis=1)\n",
      "C:\\ProgramData\\Anaconda3\\lib\\site-packages\\sklearn\\neighbors\\_classification.py:228: FutureWarning: Unlike other reduction functions (e.g. `skew`, `kurtosis`), the default behavior of `mode` typically preserves the axis it acts along. In SciPy 1.11.0, this behavior will change: the default value of `keepdims` will become False, the `axis` over which the statistic is taken will be eliminated, and the value None will no longer be accepted. Set `keepdims` to True or False to avoid this warning.\n",
      "  mode, _ = stats.mode(_y[neigh_ind, k], axis=1)\n",
      "C:\\ProgramData\\Anaconda3\\lib\\site-packages\\sklearn\\neighbors\\_classification.py:228: FutureWarning: Unlike other reduction functions (e.g. `skew`, `kurtosis`), the default behavior of `mode` typically preserves the axis it acts along. In SciPy 1.11.0, this behavior will change: the default value of `keepdims` will become False, the `axis` over which the statistic is taken will be eliminated, and the value None will no longer be accepted. Set `keepdims` to True or False to avoid this warning.\n",
      "  mode, _ = stats.mode(_y[neigh_ind, k], axis=1)\n",
      "C:\\ProgramData\\Anaconda3\\lib\\site-packages\\sklearn\\neighbors\\_classification.py:228: FutureWarning: Unlike other reduction functions (e.g. `skew`, `kurtosis`), the default behavior of `mode` typically preserves the axis it acts along. In SciPy 1.11.0, this behavior will change: the default value of `keepdims` will become False, the `axis` over which the statistic is taken will be eliminated, and the value None will no longer be accepted. Set `keepdims` to True or False to avoid this warning.\n",
      "  mode, _ = stats.mode(_y[neigh_ind, k], axis=1)\n",
      "C:\\ProgramData\\Anaconda3\\lib\\site-packages\\sklearn\\neighbors\\_classification.py:228: FutureWarning: Unlike other reduction functions (e.g. `skew`, `kurtosis`), the default behavior of `mode` typically preserves the axis it acts along. In SciPy 1.11.0, this behavior will change: the default value of `keepdims` will become False, the `axis` over which the statistic is taken will be eliminated, and the value None will no longer be accepted. Set `keepdims` to True or False to avoid this warning.\n",
      "  mode, _ = stats.mode(_y[neigh_ind, k], axis=1)\n",
      "C:\\ProgramData\\Anaconda3\\lib\\site-packages\\sklearn\\neighbors\\_classification.py:228: FutureWarning: Unlike other reduction functions (e.g. `skew`, `kurtosis`), the default behavior of `mode` typically preserves the axis it acts along. In SciPy 1.11.0, this behavior will change: the default value of `keepdims` will become False, the `axis` over which the statistic is taken will be eliminated, and the value None will no longer be accepted. Set `keepdims` to True or False to avoid this warning.\n",
      "  mode, _ = stats.mode(_y[neigh_ind, k], axis=1)\n",
      "C:\\ProgramData\\Anaconda3\\lib\\site-packages\\sklearn\\neighbors\\_classification.py:228: FutureWarning: Unlike other reduction functions (e.g. `skew`, `kurtosis`), the default behavior of `mode` typically preserves the axis it acts along. In SciPy 1.11.0, this behavior will change: the default value of `keepdims` will become False, the `axis` over which the statistic is taken will be eliminated, and the value None will no longer be accepted. Set `keepdims` to True or False to avoid this warning.\n",
      "  mode, _ = stats.mode(_y[neigh_ind, k], axis=1)\n",
      "C:\\ProgramData\\Anaconda3\\lib\\site-packages\\sklearn\\neighbors\\_classification.py:228: FutureWarning: Unlike other reduction functions (e.g. `skew`, `kurtosis`), the default behavior of `mode` typically preserves the axis it acts along. In SciPy 1.11.0, this behavior will change: the default value of `keepdims` will become False, the `axis` over which the statistic is taken will be eliminated, and the value None will no longer be accepted. Set `keepdims` to True or False to avoid this warning.\n",
      "  mode, _ = stats.mode(_y[neigh_ind, k], axis=1)\n",
      "C:\\ProgramData\\Anaconda3\\lib\\site-packages\\sklearn\\neighbors\\_classification.py:228: FutureWarning: Unlike other reduction functions (e.g. `skew`, `kurtosis`), the default behavior of `mode` typically preserves the axis it acts along. In SciPy 1.11.0, this behavior will change: the default value of `keepdims` will become False, the `axis` over which the statistic is taken will be eliminated, and the value None will no longer be accepted. Set `keepdims` to True or False to avoid this warning.\n",
      "  mode, _ = stats.mode(_y[neigh_ind, k], axis=1)\n"
     ]
    },
    {
     "data": {
      "text/plain": [
       "GridSearchCV(cv=5, estimator=KNeighborsClassifier(),\n",
       "             param_grid=[{'n_neighbors': [3, 4, 5, 6, 7],\n",
       "                          'weights': ['uniform', 'distance']}])"
      ]
     },
     "execution_count": 71,
     "metadata": {},
     "output_type": "execute_result"
    }
   ],
   "source": [
    "grid_search.fit(X_train[:10000], y_train[:10000])"
   ]
  },
  {
   "cell_type": "markdown",
   "id": "3c4b9a2c",
   "metadata": {},
   "source": [
    "Marilah kita cetak best _hyperparameter_ yang telah ditemukan."
   ]
  },
  {
   "cell_type": "code",
   "execution_count": 72,
   "id": "e0817532",
   "metadata": {},
   "outputs": [
    {
     "name": "stdout",
     "output_type": "stream",
     "text": [
      "{'n_neighbors': 4, 'weights': 'distance'}\n"
     ]
    }
   ],
   "source": [
    "print(grid_search.best_params_)"
   ]
  },
  {
   "cell_type": "markdown",
   "id": "0dfe6b48",
   "metadata": {},
   "source": [
    "Kita cetak **best** _accuracy_ atau _score_ dari hasil `grid_search`. "
   ]
  },
  {
   "cell_type": "code",
   "execution_count": 91,
   "id": "32794f07",
   "metadata": {},
   "outputs": [
    {
     "name": "stdout",
     "output_type": "stream",
     "text": [
      "0.9441999999999998\n"
     ]
    }
   ],
   "source": [
    "print(grid_search.best_score_)"
   ]
  },
  {
   "cell_type": "markdown",
   "id": "e66d4660",
   "metadata": {},
   "source": [
    "Latihlah model dengan **best** _hyperparameter_ pada `X_train` dan `y_train`. "
   ]
  },
  {
   "cell_type": "code",
   "execution_count": 93,
   "id": "ef898c1d",
   "metadata": {},
   "outputs": [
    {
     "data": {
      "text/plain": [
       "KNeighborsClassifier(n_neighbors=4, weights='distance')"
      ]
     },
     "execution_count": 93,
     "metadata": {},
     "output_type": "execute_result"
    }
   ],
   "source": [
    "grid_search.best_estimator_.fit(X_train, y_train)"
   ]
  },
  {
   "cell_type": "markdown",
   "id": "0895c144",
   "metadata": {},
   "source": [
    "Kita hitung akurasi dari model dengan **best** _hyperparameter_ pada `X_test` dan `y_test`.    \n",
    "Simpan hasil akurasi pada `tuned_accuracy`."
   ]
  },
  {
   "cell_type": "code",
   "execution_count": 94,
   "id": "1b9fd3f1",
   "metadata": {},
   "outputs": [
    {
     "data": {
      "text/plain": [
       "0.9714"
      ]
     },
     "execution_count": 94,
     "metadata": {},
     "output_type": "execute_result"
    }
   ],
   "source": [
    "tuned_accuracy = grid_search.score(X_test, y_test)\n",
    "tuned_accuracy"
   ]
  },
  {
   "cell_type": "markdown",
   "id": "2f1d1788",
   "metadata": {},
   "source": [
    "Marilah kita cetak akurasi model yang sudah di-_tuning_ ini."
   ]
  },
  {
   "cell_type": "code",
   "execution_count": 95,
   "id": "bd2d8ed6",
   "metadata": {},
   "outputs": [
    {
     "name": "stdout",
     "output_type": "stream",
     "text": [
      "Akurasi model yang sudah di-tuning adalah 97.14%\n"
     ]
    }
   ],
   "source": [
    "print(f\"Akurasi model yang sudah di-tuning adalah {tuned_accuracy * 100}%\")"
   ]
  },
  {
   "cell_type": "markdown",
   "id": "12fb193f",
   "metadata": {},
   "source": [
    "### Pertanyaan Refleksi\n",
    "> Apakah akurasi model yang sudah di-_tuning_ lebih tinggi daripada akurasi model dengan _hyperparameter default_?   \n",
    "Jelaskan!"
   ]
  },
  {
   "cell_type": "markdown",
   "id": "fff235d2",
   "metadata": {},
   "source": [
    "Di Studi kasus ini, hasil dari tuning (97.14%) lebih tinggi daripada akurasi model dengan hyperparameter default (96.88%)\n",
    "\n",
    "Tidak selalu. Ada kemungkinan bahwa model dengan hyperparameter default \n",
    "dapat memiliki akurasi yang sama atau bahkan lebih tinggi daripada model yang \n",
    "sudah di-tuning. Hal ini tergantung pada jenis data yang digunakan \n",
    "kompleksitas model, dan jenis masalah yang ingin diselesaikan.\n",
    "\n",
    "Secara umum, model yang sudah di-tuning cenderung memiliki performa\n",
    "yang lebih baik daripada model dengan hyperparameter default karena \n",
    "hyperparameter yang diatur secara tepat dapat membantu model menyesuaikan\n",
    "diri dengan data dengan lebih baik dan mengurangi risiko overfitting atau underfitting.\n",
    "\n",
    "Namun, tuning hyperparameter adalah suatu proses yang bergantung pada waktu dan komputasi yang signifikan, dan terkadang bahkan jika akurasi meningkat, peningkatan tersebut tidak sebanding dengan biaya tuning. Oleh karena itu, dalam beberapa kasus, menggunakan hyperparameter default dapat menjadi pilihan yang lebih baik secara praktis."
   ]
  },
  {
   "cell_type": "markdown",
   "id": "838189c1",
   "metadata": {},
   "source": [
    "# <a id=\"part-ii\">Part II: _Data Augmentation_ untuk $K$-Nearest Neighbors</a> (Back to [Home](#home))"
   ]
  },
  {
   "cell_type": "markdown",
   "id": "8b8b2b20",
   "metadata": {},
   "source": [
    "Kita import method `shift` yang akan digunakan untuk melakukan _shifting_ pada gambar."
   ]
  },
  {
   "cell_type": "code",
   "execution_count": 81,
   "id": "ca7cecab",
   "metadata": {},
   "outputs": [],
   "source": [
    "from scipy.ndimage import shift"
   ]
  },
  {
   "cell_type": "markdown",
   "id": "9a2dd6a8",
   "metadata": {},
   "source": [
    "Kita buat fungsi `shift` yang akan digunakan untuk melakukan `shifting` pada gambar."
   ]
  },
  {
   "cell_type": "code",
   "execution_count": 82,
   "id": "46180176",
   "metadata": {},
   "outputs": [],
   "source": [
    "def shift_image(image, dx, dy):\n",
    "    image = image.reshape((28, 28))\n",
    "    shifted_image = shift(image, [dy, dx], cval=0, mode=\"constant\")\n",
    "    return shifted_image.reshape([-1])"
   ]
  },
  {
   "cell_type": "markdown",
   "id": "53097d0b",
   "metadata": {},
   "source": [
    "Kita demokan demokan penggunakan fungsi `shift_image` dengan _random digit_."
   ]
  },
  {
   "cell_type": "code",
   "execution_count": 83,
   "id": "621b2038",
   "metadata": {},
   "outputs": [
    {
     "data": {
      "image/png": "[encoded data removed]",
      "text/plain": [
       "<Figure size 1200x300 with 3 Axes>"
      ]
     },
     "metadata": {},
     "output_type": "display_data"
    }
   ],
   "source": [
    "image = X_train[1009]  # random digit untuk demo\n",
    "\n",
    "# Gambar di-shift atau digeser ke bawah sebanyak 5 piksel\n",
    "shifted_image_down = shift_image(image, 0, 5)\n",
    "\n",
    "# Gambar di-shift atau digeser ke kiri sebanyak 5 piksel\n",
    "shifted_image_left = shift_image(image, -5, 0)\n",
    "\n",
    "# Tampilkan hasil gambar yang sudah di-shift atau digeser\n",
    "plt.figure(figsize=(12, 3))\n",
    "plt.subplot(131)\n",
    "plt.title(\"Original\")\n",
    "plt.imshow(image.reshape(28, 28),\n",
    "           interpolation=\"nearest\", cmap=\"Greys\")\n",
    "plt.subplot(132)\n",
    "plt.title(\"Shifted down\")\n",
    "plt.imshow(shifted_image_down.reshape(28, 28),\n",
    "           interpolation=\"nearest\", cmap=\"Greys\")\n",
    "plt.subplot(133)\n",
    "plt.title(\"Shifted left\")\n",
    "plt.imshow(shifted_image_left.reshape(28, 28),\n",
    "           interpolation=\"nearest\", cmap=\"Greys\")\n",
    "plt.show()"
   ]
  },
  {
   "cell_type": "markdown",
   "id": "8d85442c",
   "metadata": {},
   "source": [
    "Selanjutnya, kita akan membuat dataset baru, yaitu   \n",
    "    \n",
    "$$ \\text{Dataset baru} = \\text{Dataset lama} + \\text{Gambar-gambar yang sudah di-shift atau digeser} $$\n",
    "\n",
    "Adapun _shifting_ atau pergeseran yang digunakan adalah \n",
    "- 1 piksel ke kiri,\n",
    "- 1 piksel ke kanan,\n",
    "- 1 piksel ke atas, dan\n",
    "- 1 piksel ke bawah."
   ]
  },
  {
   "cell_type": "code",
   "execution_count": 84,
   "id": "2733f246",
   "metadata": {},
   "outputs": [],
   "source": [
    "X_train_augmented = [image for image in X_train]\n",
    "y_train_augmented = [label for label in y_train]\n",
    "\n",
    "for dx, dy in ((-1, 0), (1, 0), (0, 1), (0, -1)):\n",
    "    for image, label in zip(X_train, y_train):\n",
    "        X_train_augmented.append(shift_image(image, dx, dy))\n",
    "        y_train_augmented.append(label)\n",
    "\n",
    "        \n",
    "X_train_augmented = np.array(X_train_augmented)\n",
    "y_train_augmented = np.array(y_train_augmented)"
   ]
  },
  {
   "cell_type": "markdown",
   "id": "3676ab5d",
   "metadata": {},
   "source": [
    "Kita akan acak semua _instance_ atau data yang ada di dataset baru.  "
   ]
  },
  {
   "cell_type": "code",
   "execution_count": 85,
   "id": "9690be58",
   "metadata": {},
   "outputs": [],
   "source": [
    "shuffle_idx = np.random.permutation(len(X_train_augmented))\n",
    "X_train_augmented = X_train_augmented[shuffle_idx]\n",
    "y_train_augmented = y_train_augmented[shuffle_idx]"
   ]
  },
  {
   "cell_type": "markdown",
   "id": "49d551d3",
   "metadata": {},
   "source": [
    "Kita buat _instance_ dari kelas `KNeighborsClassifier` dengan _best hyperparameter_ hasil dari `grid_search`.  "
   ]
  },
  {
   "cell_type": "code",
   "execution_count": 86,
   "id": "8676db0e",
   "metadata": {},
   "outputs": [],
   "source": [
    "knn_clf = KNeighborsClassifier(**grid_search.best_params_)"
   ]
  },
  {
   "cell_type": "markdown",
   "id": "c861ffd1",
   "metadata": {},
   "source": [
    "Kita latih `knn_clf` dengan dataset baru kita, yaitu: `X_train_augmented` dan `y_train_augmented`."
   ]
  },
  {
   "cell_type": "code",
   "execution_count": 87,
   "id": "ffe7a45c",
   "metadata": {},
   "outputs": [
    {
     "data": {
      "text/plain": [
       "KNeighborsClassifier(n_neighbors=4, weights='distance')"
      ]
     },
     "execution_count": 87,
     "metadata": {},
     "output_type": "execute_result"
    }
   ],
   "source": [
    "knn_clf.fit(X_train_augmented, y_train_augmented)"
   ]
  },
  {
   "cell_type": "markdown",
   "id": "a8bfc1cc",
   "metadata": {},
   "source": [
    "Hitunglah akurasi dari model `knn_clf` tersebut pada `X_test` dan `y_test`."
   ]
  },
  {
   "cell_type": "code",
   "execution_count": 88,
   "id": "71411010",
   "metadata": {},
   "outputs": [
    {
     "data": {
      "text/plain": [
       "0.9763"
      ]
     },
     "execution_count": 88,
     "metadata": {},
     "output_type": "execute_result"
    }
   ],
   "source": [
    "augmented_accuracy = knn_clf.score(X_test, y_test)\n",
    "augmented_accuracy"
   ]
  },
  {
   "cell_type": "code",
   "execution_count": 90,
   "id": "d99ee809",
   "metadata": {},
   "outputs": [
    {
     "name": "stdout",
     "output_type": "stream",
     "text": [
      "Akurasi model dengan data augmentation adalah 97.63%\n"
     ]
    }
   ],
   "source": [
    "print(f\"Akurasi model dengan data augmentation adalah {augmented_accuracy* 100}%\")"
   ]
  },
  {
   "cell_type": "markdown",
   "id": "56e6e801",
   "metadata": {},
   "source": [
    "<center>\n",
    "<h1>The End</h1>\n",
    "</center>"
   ]
  }
 ],
 "metadata": {
  "kernelspec": {
   "display_name": "Python 3 (ipykernel)",
   "language": "python",
   "name": "python3"
  },
  "language_info": {
   "codemirror_mode": {
    "name": "ipython",
    "version": 3
   },
   "file_extension": ".py",
   "mimetype": "text/x-python",
   "name": "python",
   "nbconvert_exporter": "python",
   "pygments_lexer": "ipython3",
   "version": "3.9.13"
  }
 },
 "nbformat": 4,
 "nbformat_minor": 5
}
