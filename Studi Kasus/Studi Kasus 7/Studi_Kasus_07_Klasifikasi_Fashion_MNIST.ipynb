{
 "cells": [
  {
   "cell_type": "markdown",
   "id": "5a9e2ac9",
   "metadata": {},
   "source": [
    "# Fashion MNIST"
   ]
  },
  {
   "cell_type": "markdown",
   "id": "00581c51",
   "metadata": {},
   "source": [
    "Dalam studi kasus ini, anda diberikan dataset [**Fashion MNIST**](https://github.com/zalandoresearch/fashion-mnist).\n",
    "    \n",
    "<br/>    \n",
    "<div>\n",
    "    <img src=\"images/fashion-mnist-sprite.png\" width=800>\n",
    "</div>"
   ]
  },
  {
   "cell_type": "markdown",
   "id": "37b540c1",
   "metadata": {},
   "source": [
    "Dataset ini terdiri dari $60.000$ gambar berukuran $28 \\times 28$ pixels grayscale sebagai _train set_ dan $10.000$ gambar sebagai _test set_.     \n",
    "Selain itu, terdapat juga $10$ kategori fashion sebagai berikut:\n",
    "\n",
    "<br/>\n",
    "<div>\n",
    "    <img src=\"images/fashion-labels.png\" width=700>\n",
    "</div>    \n"
   ]
  },
  {
   "cell_type": "markdown",
   "id": "5651e5f9",
   "metadata": {},
   "source": [
    "## Download dataset"
   ]
  },
  {
   "cell_type": "markdown",
   "id": "d89e9ae4",
   "metadata": {},
   "source": [
    "- Dataset Fashion MNIST yang berbentuk _numpy array_ dapat diunduh di [**sini**](https://drive.google.com/file/d/1FHUtWhwYBAZBw31qPjvsjPzjatNfVLi4/view?usp=sharing).    \n",
    "- Silakan anda unduh dan ekstrak.\n",
    "- Hasil ekstraksi akan memberikan 4 files, yaitu: `X_train.npy`, `y_train.npy`, `X_test.npy`, dan `y_test.npy`.\n",
    "- Letakkan 4 files tersebut sejajar dengan file notebook ini."
   ]
  },
  {
   "cell_type": "markdown",
   "id": "71018d43",
   "metadata": {},
   "source": [
    "Mari kita load dataset ke dalam variabel-variabel berikut:"
   ]
  },
  {
   "cell_type": "code",
   "execution_count": 2,
   "id": "4931beda",
   "metadata": {},
   "outputs": [],
   "source": [
    "X_train = np.load( \"X_train.npy\" )\n",
    "X_test  = np.load( \"X_test.npy\" )\n",
    "y_train = np.load( \"y_train.npy\" )\n",
    "y_test  = np.load( \"y_test.npy\" )"
   ]
  },
  {
   "cell_type": "markdown",
   "id": "27f4a9f1",
   "metadata": {},
   "source": [
    "Kita cek dimensi dari masing-masing _numpy array_."
   ]
  },
  {
   "cell_type": "code",
   "execution_count": 3,
   "id": "66c1f78f",
   "metadata": {},
   "outputs": [],
   "source": [
    "assert X_train.shape == (60000, 28, 28)\n",
    "assert X_test.shape == (10000, 28, 28)\n",
    "assert y_train.shape == (60000,)\n",
    "assert y_test.shape == (10000,)"
   ]
  },
  {
   "cell_type": "markdown",
   "id": "13f98ec9",
   "metadata": {},
   "source": [
    "Kita set random seed adalah `212`."
   ]
  },
  {
   "cell_type": "code",
   "execution_count": 4,
   "id": "6a119473",
   "metadata": {},
   "outputs": [],
   "source": [
    "import numpy as np\n",
    "np.random.seed(212)"
   ]
  },
  {
   "cell_type": "markdown",
   "id": "cede014d",
   "metadata": {},
   "source": [
    "# Preprocessing dataset"
   ]
  },
  {
   "cell_type": "markdown",
   "id": "e7c19e26",
   "metadata": {},
   "source": [
    "Preprocessing yang dapat anda lakukan adalah membagi setiap pixel pada gambar dengan `255`."
   ]
  },
  {
   "cell_type": "code",
   "execution_count": 5,
   "id": "bebafff3",
   "metadata": {},
   "outputs": [],
   "source": [
    "#### Write Your Code Here ####"
   ]
  },
  {
   "cell_type": "code",
   "execution_count": 6,
   "id": "d5b08956",
   "metadata": {},
   "outputs": [],
   "source": [
    "#### Write Your Code Here ####"
   ]
  },
  {
   "cell_type": "code",
   "execution_count": 7,
   "id": "b3d334e0",
   "metadata": {},
   "outputs": [],
   "source": [
    "#### Write Your Code Here ####"
   ]
  },
  {
   "cell_type": "markdown",
   "id": "7200d427",
   "metadata": {},
   "source": [
    "Silakan anda ubah bentuk numpy array $28 \\times 28$ menjadi $784$.    \n",
    "By the way, $784$ diperoleh dari $28 \\times 28$."
   ]
  },
  {
   "cell_type": "code",
   "execution_count": 5,
   "id": "712ad67e",
   "metadata": {},
   "outputs": [],
   "source": [
    "#### Write Your Code Here ####"
   ]
  },
  {
   "cell_type": "code",
   "execution_count": 6,
   "id": "8284ad0e",
   "metadata": {},
   "outputs": [],
   "source": [
    "#### Write Your Code Here ####"
   ]
  },
  {
   "cell_type": "code",
   "execution_count": 7,
   "id": "518aac46",
   "metadata": {},
   "outputs": [],
   "source": [
    "#### Write Your Code Here ####"
   ]
  },
  {
   "cell_type": "markdown",
   "id": "2b9aef8b",
   "metadata": {},
   "source": [
    "# Pembuatan Model Logistic Regression"
   ]
  },
  {
   "cell_type": "markdown",
   "id": "98ea0650",
   "metadata": {},
   "source": [
    "Model _logistic regression_ akan dibuat dan dikenakan _hyperparameter tuning_ dengan menggunakan `GridSearchCV` dan hyperparameter yang di-_tuning_ adalah `penalty`, yaitu\n",
    "- `'l1'`,\n",
    "- `'l2'`,\n",
    "- `'elasticnet'`, dan\n",
    "- `None`.\n",
    "\n",
    "Oh iya, gunakan `solver`=`saga` dan metrik kinerja _accuracy_.\n"
   ]
  },
  {
   "cell_type": "code",
   "execution_count": 1,
   "id": "48e07606",
   "metadata": {},
   "outputs": [],
   "source": [
    "#### Write Your Code Here ####"
   ]
  },
  {
   "cell_type": "code",
   "execution_count": 2,
   "id": "a6358e5f",
   "metadata": {},
   "outputs": [],
   "source": [
    "#### Write Your Code Here ####"
   ]
  },
  {
   "cell_type": "code",
   "execution_count": 3,
   "id": "72b0d1a9",
   "metadata": {},
   "outputs": [],
   "source": [
    "#### Write Your Code Here ####"
   ]
  },
  {
   "cell_type": "markdown",
   "id": "8f0f02d6",
   "metadata": {},
   "source": [
    "# Pembuatan Validation Curve"
   ]
  },
  {
   "cell_type": "markdown",
   "id": "c9ad60e3",
   "metadata": {},
   "source": [
    "Buatlah [validation curve](https://scikit-learn.org/stable/modules/learning_curve.html#learning-curve) untuk mengevaluasi models berdasarkan nilai akurasinya."
   ]
  },
  {
   "cell_type": "code",
   "execution_count": 1,
   "id": "c78fd4e8",
   "metadata": {},
   "outputs": [],
   "source": [
    "#### Write Your Code Here ####"
   ]
  },
  {
   "cell_type": "code",
   "execution_count": 2,
   "id": "7427ddb7",
   "metadata": {},
   "outputs": [],
   "source": [
    "#### Write Your Code Here ####"
   ]
  },
  {
   "cell_type": "code",
   "execution_count": 3,
   "id": "6ffd03e2",
   "metadata": {},
   "outputs": [],
   "source": [
    "#### Write Your Code Here ####"
   ]
  },
  {
   "cell_type": "markdown",
   "id": "4e2d8fb7",
   "metadata": {},
   "source": [
    "# Pengujian pada Test set"
   ]
  },
  {
   "cell_type": "markdown",
   "id": "f17f7329",
   "metadata": {},
   "source": [
    "Ujilah model dengan hyperparameter terbaik pada test set.    \n",
    "Laporkan hasilnya."
   ]
  },
  {
   "cell_type": "code",
   "execution_count": 1,
   "id": "707eb109",
   "metadata": {},
   "outputs": [],
   "source": [
    "#### Write Your Code Here ####"
   ]
  },
  {
   "cell_type": "code",
   "execution_count": 2,
   "id": "16f37182",
   "metadata": {},
   "outputs": [],
   "source": [
    "#### Write Your Code Here ####"
   ]
  },
  {
   "cell_type": "code",
   "execution_count": 3,
   "id": "045b7cfa",
   "metadata": {},
   "outputs": [],
   "source": [
    "#### Write Your Code Here ####"
   ]
  },
  {
   "cell_type": "markdown",
   "id": "5682d211",
   "metadata": {},
   "source": [
    "<center>\n",
    "    <h1>The End</h1>\n",
    "</center>"
   ]
  }
 ],
 "metadata": {
  "kernelspec": {
   "display_name": "Python 3 (ipykernel)",
   "language": "python",
   "name": "python3"
  },
  "language_info": {
   "codemirror_mode": {
    "name": "ipython",
    "version": 3
   },
   "file_extension": ".py",
   "mimetype": "text/x-python",
   "name": "python",
   "nbconvert_exporter": "python",
   "pygments_lexer": "ipython3",
   "version": "3.9.13"
  }
 },
 "nbformat": 4,
 "nbformat_minor": 5
}
